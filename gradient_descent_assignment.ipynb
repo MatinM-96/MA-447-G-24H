{
 "cells": [
  {
   "cell_type": "code",
   "execution_count": null,
   "id": "acoustic-running",
   "metadata": {},
   "outputs": [],
   "source": [
    "from numpy import arange\n",
    "from matplotlib import pyplot\n",
    "from numpy import asarray\n",
    "from numpy.random import rand\n",
    "from numpy.random import seed"
   ]
  },
  {
   "cell_type": "markdown",
   "id": "bigger-niger",
   "metadata": {},
   "source": [
    "Define the objective function to be f(x) = x^2. Next define its derivative."
   ]
  },
  {
   "cell_type": "code",
   "execution_count": null,
   "id": "insured-center",
   "metadata": {},
   "outputs": [],
   "source": [
    "def objective(x):\n",
    "    ##INSERT YOUR CODE##"
   ]
  },
  {
   "cell_type": "code",
   "execution_count": null,
   "id": "acute-ebony",
   "metadata": {},
   "outputs": [],
   "source": [
    "# derivative of objective function\n",
    "def derivative(x):\n",
    "    ##INSERT YOUR CODE##"
   ]
  },
  {
   "cell_type": "code",
   "execution_count": null,
   "id": "fewer-vermont",
   "metadata": {},
   "outputs": [],
   "source": [
    "# define range for input\n",
    "r_min, r_max = -1.0, 1.0\n",
    "# sample input range uniformly at 0.1 increments\n",
    "inputs = arange(r_min, r_max+0.1, 0.1)\n",
    "# compute targets\n",
    "results = objective(inputs)"
   ]
  },
  {
   "cell_type": "code",
   "execution_count": null,
   "id": "quantitative-chrome",
   "metadata": {},
   "outputs": [],
   "source": [
    "# create a line plot of input vs result\n",
    "pyplot.plot(inputs, results)\n",
    "# show the plot\n",
    "pyplot.show()"
   ]
  },
  {
   "cell_type": "markdown",
   "id": "vocational-underground",
   "metadata": {},
   "source": [
    "Next we need to define our Vanilla Gradient Descent. We will be storing all our scores along the way so that we can get a neat little plot at the end."
   ]
  },
  {
   "cell_type": "code",
   "execution_count": null,
   "id": "lonely-shade",
   "metadata": {},
   "outputs": [],
   "source": [
    "def gradient_descent(objective, derivative, bounds, n_iter, step_size):\n",
    "\t# track all solutions\n",
    "\tsolutions, scores = list(), list()\n",
    "\t# generate an initial point\n",
    "\tsolution = bounds[:, 0] + rand(len(bounds)) * (bounds[:, 1] - bounds[:, 0])\n",
    "\t# run the gradient descent\n",
    "\tfor i in range(##INSERT YOUR CODE##):\n",
    "\t\t# calculate gradient\n",
    "\t\tgradient = ##INSERT YOUR CODE##\n",
    "\t\t# take a step\n",
    "\t\tsolution = ##INSERT YOUR CODE##\n",
    "\t\t# evaluate candidate point\n",
    "\t\tsolution_eval = ##INSERT YOUR CODE##\n",
    "\t\t# store solution\n",
    "\t\tsolutions.append(solution)\n",
    "\t\tscores.append(solution_eval)\n",
    "\t\t# report progress\n",
    "\t\tprint('>%d f(%s) = %.5f' % (i, solution, solution_eval))\n",
    "\treturn [solutions, scores]"
   ]
  },
  {
   "cell_type": "code",
   "execution_count": null,
   "id": "bottom-length",
   "metadata": {},
   "outputs": [],
   "source": [
    "# seed the pseudo random number generator\n",
    "seed(4)\n",
    "# define range for input\n",
    "bounds = asarray([[-1.0, 1.0]])\n",
    "# define the total iterations\n",
    "n_iter = 30\n",
    "# define the step size\n",
    "step_size = 0.1\n",
    "# perform the gradient descent search\n",
    "solutions, scores = gradient_descent(objective, derivative, bounds, n_iter, step_size)\n",
    "# sample input range uniformly at 0.1 increments\n",
    "inputs = arange(bounds[0,0], bounds[0,1]+0.1, 0.1)\n",
    "# compute targets\n",
    "results = objective(inputs)\n",
    "# create a line plot of input vs result\n",
    "pyplot.plot(inputs, results)\n",
    "# plot the solutions found\n",
    "pyplot.plot(solutions, scores, '.-', color='red')\n",
    "# show the plot\n",
    "pyplot.show()"
   ]
  },
  {
   "cell_type": "code",
   "execution_count": null,
   "id": "spatial-accommodation",
   "metadata": {},
   "outputs": [],
   "source": [
    "def gradient_descent_with_momentum(objective, derivative, bounds, n_iter, step_size, momentum):\n",
    "\t# track all solutions\n",
    "\tsolutions, scores = list(), list()\n",
    "\t# generate an initial point\n",
    "\tsolution = bounds[:, 0] + rand(len(bounds)) * (bounds[:, 1] - bounds[:, 0])\n",
    "\t# keep track of the change\n",
    "\tchange = 0.0\n",
    "\t# run the gradient descent\n",
    "\tfor i in range(##INSERT YOUR CODE#):\n",
    "\t\t# calculate gradient\n",
    "\t\tgradient = ##INSERT YOUR CODE#\n",
    "\t\t# calculate update\n",
    "\t\tnew_change = ##INSERT YOUR CODE#\n",
    "\t\t# take a step\n",
    "\t\tsolution = ##INSERT YOUR CODE#\n",
    "\t\t# save the change\n",
    "\t\tchange = new_change\n",
    "\t\t# evaluate candidate point\n",
    "\t\tsolution_eval = objective(solution)\n",
    "\t\t# store solution\n",
    "\t\tsolutions.append(solution)\n",
    "\t\tscores.append(solution_eval)\n",
    "\t\t# report progress\n",
    "\t\tprint('>%d f(%s) = %.5f' % (i, solution, solution_eval))\n",
    "\treturn [solutions, scores]"
   ]
  },
  {
   "cell_type": "code",
   "execution_count": null,
   "id": "public-azerbaijan",
   "metadata": {},
   "outputs": [],
   "source": [
    "# seed the pseudo random number generator\n",
    "seed(4)\n",
    "# define range for input\n",
    "bounds = asarray([[-1.0, 1.0]])\n",
    "# define the total iterations\n",
    "n_iter = 30\n",
    "# define the step size\n",
    "step_size = 0.1\n",
    "# define momentum\n",
    "momentum = 0.3\n",
    "# perform the gradient descent search with momentum\n",
    "solutions, scores = gradient_descent_with_momentum(objective, derivative, bounds, n_iter, step_size, momentum)\n",
    "# sample input range uniformly at 0.1 increments\n",
    "inputs = arange(bounds[0,0], bounds[0,1]+0.1, 0.1)\n",
    "# compute targets\n",
    "results = objective(inputs)\n",
    "# create a line plot of input vs result\n",
    "pyplot.plot(inputs, results)\n",
    "# plot the solutions found\n",
    "pyplot.plot(solutions, scores, '.-', color='red')\n",
    "# show the plot\n",
    "pyplot.show()"
   ]
  },
  {
   "cell_type": "code",
   "execution_count": null,
   "id": "outside-orange",
   "metadata": {},
   "outputs": [],
   "source": []
  }
 ],
 "metadata": {
  "kernelspec": {
   "display_name": "Python 3",
   "language": "python",
   "name": "python3"
  },
  "language_info": {
   "codemirror_mode": {
    "name": "ipython",
    "version": 3
   },
   "file_extension": ".py",
   "mimetype": "text/x-python",
   "name": "python",
   "nbconvert_exporter": "python",
   "pygments_lexer": "ipython3",
   "version": "3.8.6"
  }
 },
 "nbformat": 4,
 "nbformat_minor": 5
}
