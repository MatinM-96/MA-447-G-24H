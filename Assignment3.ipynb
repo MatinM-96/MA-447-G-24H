{
 "cells": [
  {
   "cell_type": "code",
   "outputs": [],
   "source": [
    "#assignmbet 2a \n",
    "#Coding problem : Find the eigenvalues and eigen vectors of the following matrix using Python. "
   ],
   "metadata": {
    "collapsed": false,
    "ExecuteTime": {
     "end_time": "2024-09-22T08:15:59.391758Z",
     "start_time": "2024-09-22T08:15:59.383771Z"
    }
   },
   "id": "4781a4487902923f",
   "execution_count": 6
  },
  {
   "cell_type": "code",
   "execution_count": 7,
   "id": "initial_id",
   "metadata": {
    "collapsed": true,
    "ExecuteTime": {
     "end_time": "2024-09-22T08:15:59.486629Z",
     "start_time": "2024-09-22T08:15:59.470787Z"
    }
   },
   "outputs": [
    {
     "name": "stdout",
     "output_type": "stream",
     "text": [
      "Eigenvalues: [3.41421356 2.         0.58578644]\n",
      "Eigenvectors:\n",
      " [[-5.00000000e-01 -7.07106781e-01  5.00000000e-01]\n",
      " [ 7.07106781e-01  4.05405432e-16  7.07106781e-01]\n",
      " [-5.00000000e-01  7.07106781e-01  5.00000000e-01]]\n"
     ]
    }
   ],
   "source": [
    "import numpy as np\n",
    "# Define the matrix\n",
    "matrix = np.array([[2, -1, 0],\n",
    "                   [-1, 2, -1],\n",
    "                   [0, -1, 2]])\n",
    "\n",
    "# Calculate eigenvalues and eigenvectors\n",
    "eigenvalues, eigenvectors = np.linalg.eig(matrix)\n",
    "\n",
    "# Display the results\n",
    "print(\"Eigenvalues:\", eigenvalues)\n",
    "print(\"Eigenvectors:\\n\", eigenvectors)\n"
   ]
  },
  {
   "cell_type": "markdown",
   "source": [],
   "metadata": {
    "collapsed": false
   },
   "id": "b9b45d694ba99b0c"
  },
  {
   "cell_type": "code",
   "outputs": [],
   "source": [
    "#assignmbet 2b\n",
    "#Coding problem : Find the eigenvalues and eigen vectors of the following matrix using Python. Verify that the received values indeed satisfy A.v = landa.v  "
   ],
   "metadata": {
    "collapsed": false,
    "ExecuteTime": {
     "end_time": "2024-09-22T08:15:59.533589Z",
     "start_time": "2024-09-22T08:15:59.526669Z"
    }
   },
   "id": "7962793a64261933",
   "execution_count": 8
  },
  {
   "cell_type": "code",
   "outputs": [
    {
     "name": "stdout",
     "output_type": "stream",
     "text": [
      "Eigenvalues: [ 4.31662479e+00 -2.31662479e+00  1.93041509e-17]\n",
      "Eigenvectors:\n",
      " [[ 0.58428153  0.73595785  0.40824829]\n",
      " [ 0.80407569 -0.38198836 -0.81649658]\n",
      " [ 0.10989708 -0.55897311  0.40824829]]\n",
      "\n",
      "Eigenvalue 1: 4.3166247903554\n",
      "λ * v = [2.52212416 3.47089307 0.47438446]\n",
      "A * v = [2.52212416 3.47089307 0.47438446]\n",
      "Verification: True\n",
      "\n",
      "Eigenvalue 2: -2.3166247903554\n",
      "λ * v = [-1.7049382   0.88492371  1.29493096]\n",
      "A * v = [-1.7049382   0.88492371  1.29493096]\n",
      "Verification: True\n",
      "\n",
      "Eigenvalue 3: 1.9304150856667875e-17\n",
      "λ * v = [ 7.88088659e-18 -1.57617732e-17  7.88088659e-18]\n",
      "A * v = [-2.77555756e-16  2.22044605e-16  2.22044605e-16]\n",
      "Verification: True\n"
     ]
    }
   ],
   "source": [
    "import numpy as np\n",
    "\n",
    "# Define the matrix\n",
    "A = np.array([[1, 2, 3],\n",
    "              [3, 2, 1],\n",
    "              [1, 0, -1]])\n",
    "\n",
    "# Calculate eigenvalues and eigenvectors\n",
    "eigenvalues, eigenvectors = np.linalg.eig(A)\n",
    "\n",
    "# Display eigenvalues and eigenvectors\n",
    "print(\"Eigenvalues:\", eigenvalues)\n",
    "print(\"Eigenvectors:\\n\", eigenvectors)\n",
    "\n",
    "# Verify A * v = λ * v for each eigenvalue and eigenvector\n",
    "for i in range(len(eigenvalues)):\n",
    "    lambda_v = eigenvalues[i] * eigenvectors[:, i]\n",
    "    A_v = np.dot(A, eigenvectors[:, i])\n",
    "    print(f\"\\nEigenvalue {i + 1}: {eigenvalues[i]}\")\n",
    "    print(f\"λ * v = {lambda_v}\")\n",
    "    print(f\"A * v = {A_v}\")\n",
    "    print(f\"Verification: {np.allclose(A_v, lambda_v)}\")\n",
    "\n",
    "   \n",
    "\n"
   ],
   "metadata": {
    "collapsed": false,
    "ExecuteTime": {
     "end_time": "2024-09-22T08:15:59.636897Z",
     "start_time": "2024-09-22T08:15:59.617609Z"
    }
   },
   "id": "41d01c32ab3c4a50",
   "execution_count": 9
  },
  {
   "cell_type": "code",
   "outputs": [],
   "source": [],
   "metadata": {
    "collapsed": false,
    "ExecuteTime": {
     "end_time": "2024-09-22T08:15:59.737691Z",
     "start_time": "2024-09-22T08:15:59.723926Z"
    }
   },
   "id": "2e3b78a8c6ac53a9",
   "execution_count": 9
  }
 ],
 "metadata": {
  "kernelspec": {
   "display_name": "Python 3",
   "language": "python",
   "name": "python3"
  },
  "language_info": {
   "codemirror_mode": {
    "name": "ipython",
    "version": 2
   },
   "file_extension": ".py",
   "mimetype": "text/x-python",
   "name": "python",
   "nbconvert_exporter": "python",
   "pygments_lexer": "ipython2",
   "version": "2.7.6"
  }
 },
 "nbformat": 4,
 "nbformat_minor": 5
}
