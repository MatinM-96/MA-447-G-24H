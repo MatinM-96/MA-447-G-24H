{
 "cells": [
  {
   "cell_type": "code",
   "execution_count": null,
   "id": "initial_id",
   "metadata": {
    "collapsed": true,
    "is_executing": true
   },
   "outputs": [],
   "source": [
    "import matplotlib\n",
    "\n",
    "matplotlib.use('Agg')  # Use non-interactive Agg backend\n",
    "\n",
    "from numpy import arange, asarray\n",
    "from matplotlib import pyplot\n",
    "from numpy.random import rand, seed\n",
    "\n",
    "\n",
    "# Define the objective function\n",
    "def objective(x):\n",
    "    return x ** 2\n",
    "\n",
    "\n",
    "# Derivative of the objective function\n",
    "def derivative(x):\n",
    "    return 2 * x\n",
    "\n",
    "\n",
    "# Vanilla Gradient Descent\n",
    "def gradient_descent(objective, derivative, bounds, n_iter, step_size):\n",
    "    solutions, scores = [], []\n",
    "    solution = bounds[:, 0] + rand(len(bounds)) * (bounds[:, 1] - bounds[:, 0])\n",
    "\n",
    "    for i in range(n_iter):\n",
    "        gradient = derivative(solution)\n",
    "        solution = solution - step_size * gradient\n",
    "        solution_eval = objective(solution)\n",
    "        solutions.append(solution.copy())\n",
    "        scores.append(solution_eval)\n",
    "        print(f'>Vanilla {i} f({solution[0].item():.5f}) = {solution_eval.item():.5f}')\n",
    "\n",
    "    return asarray(solutions), asarray(scores)\n",
    "\n",
    "\n",
    "# Gradient Descent with Momentum\n",
    "def gradient_descent_momentum(objective, derivative, bounds, n_iter, step_size, momentum):\n",
    "    solutions, scores = [], []\n",
    "    solution = bounds[:, 0] + rand(len(bounds)) * (bounds[:, 1] - bounds[:, 0])\n",
    "    velocity = asarray([0.0] * len(bounds))\n",
    "\n",
    "    for i in range(n_iter):\n",
    "        gradient = derivative(solution)\n",
    "        velocity = momentum * velocity - step_size * gradient\n",
    "        solution = solution + velocity\n",
    "        solution_eval = objective(solution)\n",
    "        solutions.append(solution.copy())\n",
    "        scores.append(solution_eval)\n",
    "        print(f'>Momentum {i} f({solution[0].item():.5f}) = {solution_eval.item():.5f}')\n",
    "\n",
    "    return asarray(solutions), asarray(scores)\n",
    "\n",
    "\n",
    "# Parameters\n",
    "seed(4)  # Seed for reproducibility\n",
    "bounds = asarray([[-1.0, 1.0]])\n",
    "n_iter = 30\n",
    "step_size = 0.1\n",
    "momentum = 0.9\n",
    "\n",
    "# Run Vanilla Gradient Descent\n",
    "solutions_vanilla, scores_vanilla = gradient_descent(objective, derivative, bounds, n_iter, step_size)\n",
    "\n",
    "# Run Gradient Descent with Momentum\n",
    "solutions_momentum, scores_momentum = gradient_descent_momentum(objective, derivative, bounds, n_iter, step_size,\n",
    "                                                                momentum)\n",
    "\n",
    "# Plotting Results\n",
    "inputs = arange(bounds[0, 0], bounds[0, 1] + 0.1, 0.1)\n",
    "results = objective(inputs)\n",
    "\n",
    "pyplot.figure(figsize=(14, 6))\n",
    "\n",
    "# Plot Vanilla Gradient Descent\n",
    "pyplot.subplot(1, 2, 1)\n",
    "pyplot.plot(inputs, results, label='Objective Function')\n",
    "pyplot.plot(solutions_vanilla[:, 0], scores_vanilla, '.-', color='red', label='Vanilla Gradient Descent Path')\n",
    "pyplot.title('Vanilla Gradient Descent')\n",
    "pyplot.xlabel('x')\n",
    "pyplot.ylabel('f(x)')\n",
    "pyplot.legend()\n",
    "\n",
    "# Plot Gradient Descent with Momentum\n",
    "pyplot.subplot(1, 2, 2)\n",
    "pyplot.plot(inputs, results, label='Objective Function')\n",
    "pyplot.plot(solutions_momentum[:, 0], scores_momentum, '.-', color='blue', label='Momentum Path')\n",
    "pyplot.title('Gradient Descent with Momentum')\n",
    "pyplot.xlabel('x')\n",
    "pyplot.ylabel('f(x)')\n",
    "pyplot.legend()\n",
    "\n",
    "pyplot.tight_layout()\n",
    "pyplot.savefig('plot.png')  # Save the plot to a file instead of showing it\n",
    "\n",
    "\n"
   ]
  },
  {
   "cell_type": "code",
   "outputs": [],
   "source": [],
   "metadata": {
    "collapsed": false,
    "is_executing": true
   },
   "id": "97314e0b0473a92c"
  },
  {
   "cell_type": "code",
   "outputs": [],
   "source": [],
   "metadata": {
    "collapsed": false,
    "ExecuteTime": {
     "end_time": "2024-09-04T13:54:17.807012Z",
     "start_time": "2024-09-04T13:54:17.801420Z"
    }
   },
   "id": "7b486cc5cdd5c677",
   "execution_count": 5
  },
  {
   "cell_type": "code",
   "outputs": [],
   "source": [],
   "metadata": {
    "collapsed": false,
    "ExecuteTime": {
     "end_time": "2024-09-04T13:54:18.039211Z",
     "start_time": "2024-09-04T13:54:18.034616Z"
    }
   },
   "id": "1de6293c25ee26be",
   "execution_count": 5
  },
  {
   "cell_type": "code",
   "outputs": [],
   "source": [],
   "metadata": {
    "collapsed": false
   },
   "id": "c36b7a8fc3c1d27e"
  }
 ],
 "metadata": {
  "kernelspec": {
   "display_name": "Python 3",
   "language": "python",
   "name": "python3"
  },
  "language_info": {
   "codemirror_mode": {
    "name": "ipython",
    "version": 2
   },
   "file_extension": ".py",
   "mimetype": "text/x-python",
   "name": "python",
   "nbconvert_exporter": "python",
   "pygments_lexer": "ipython2",
   "version": "2.7.6"
  }
 },
 "nbformat": 4,
 "nbformat_minor": 5
}
